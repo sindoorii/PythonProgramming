{
  "nbformat": 4,
  "nbformat_minor": 0,
  "metadata": {
    "colab": {
      "name": "NAIVE BAYES MODEL",
      "provenance": []
    },
    "kernelspec": {
      "name": "python3",
      "display_name": "Python 3"
    },
    "language_info": {
      "name": "python"
    }
  },
  "cells": [
    {
      "cell_type": "code",
      "execution_count": 18,
      "metadata": {
        "id": "bYqxZPiDRCVW"
      },
      "outputs": [],
      "source": [
        "import numpy as np\n",
        "import pandas as pd\n",
        "from sklearn.naive_bayes import GaussianNB\n",
        "from sklearn.preprocessing import LabelEncoder\n",
        "from sklearn.model_selection import train_test_split\n",
        "from sklearn.metrics import accuracy_score\n",
        "from sklearn.metrics import confusion_matrix,classification_report\n"
      ]
    },
    {
      "cell_type": "code",
      "source": [
        "dataset=pd.read_csv('/content/sample_data/daily_show_guests.csv')"
      ],
      "metadata": {
        "id": "ZJJdE3drRPLm"
      },
      "execution_count": 19,
      "outputs": []
    },
    {
      "cell_type": "code",
      "source": [
        "dataset"
      ],
      "metadata": {
        "colab": {
          "base_uri": "https://localhost:8080/",
          "height": 424
        },
        "id": "hoa5AjoDRVAJ",
        "outputId": "9d9b22f1-bfa9-495c-e26d-39f02944abc6"
      },
      "execution_count": 20,
      "outputs": [
        {
          "output_type": "execute_result",
          "data": {
            "text/plain": [
              "      YEAR GoogleKnowlege_Occupation     Show   Group        Raw_Guest_List\n",
              "0     1999                     actor  1/11/99  Acting        Michael J. Fox\n",
              "1     1999                  Comedian  1/12/99  Comedy       Sandra Bernhard\n",
              "2     1999        television actress  1/13/99  Acting         Tracey Ullman\n",
              "3     1999              film actress  1/14/99  Acting      Gillian Anderson\n",
              "4     1999                     actor  1/18/99  Acting      David Alan Grier\n",
              "...    ...                       ...      ...     ...                   ...\n",
              "2688  2015                biographer  7/29/15   Media  Doris Kearns Goodwin\n",
              "2689  2015                  director  7/30/15   Media          J. J. Abrams\n",
              "2690  2015         stand-up comedian   8/3/15  Comedy           Amy Schumer\n",
              "2691  2015                     actor   8/4/15  Acting           Denis Leary\n",
              "2692  2015                  comedian   8/5/15  Comedy            Louis C.K.\n",
              "\n",
              "[2693 rows x 5 columns]"
            ],
            "text/html": [
              "\n",
              "  <div id=\"df-12f7abf8-6d26-4698-a494-d5ee97d77267\">\n",
              "    <div class=\"colab-df-container\">\n",
              "      <div>\n",
              "<style scoped>\n",
              "    .dataframe tbody tr th:only-of-type {\n",
              "        vertical-align: middle;\n",
              "    }\n",
              "\n",
              "    .dataframe tbody tr th {\n",
              "        vertical-align: top;\n",
              "    }\n",
              "\n",
              "    .dataframe thead th {\n",
              "        text-align: right;\n",
              "    }\n",
              "</style>\n",
              "<table border=\"1\" class=\"dataframe\">\n",
              "  <thead>\n",
              "    <tr style=\"text-align: right;\">\n",
              "      <th></th>\n",
              "      <th>YEAR</th>\n",
              "      <th>GoogleKnowlege_Occupation</th>\n",
              "      <th>Show</th>\n",
              "      <th>Group</th>\n",
              "      <th>Raw_Guest_List</th>\n",
              "    </tr>\n",
              "  </thead>\n",
              "  <tbody>\n",
              "    <tr>\n",
              "      <th>0</th>\n",
              "      <td>1999</td>\n",
              "      <td>actor</td>\n",
              "      <td>1/11/99</td>\n",
              "      <td>Acting</td>\n",
              "      <td>Michael J. Fox</td>\n",
              "    </tr>\n",
              "    <tr>\n",
              "      <th>1</th>\n",
              "      <td>1999</td>\n",
              "      <td>Comedian</td>\n",
              "      <td>1/12/99</td>\n",
              "      <td>Comedy</td>\n",
              "      <td>Sandra Bernhard</td>\n",
              "    </tr>\n",
              "    <tr>\n",
              "      <th>2</th>\n",
              "      <td>1999</td>\n",
              "      <td>television actress</td>\n",
              "      <td>1/13/99</td>\n",
              "      <td>Acting</td>\n",
              "      <td>Tracey Ullman</td>\n",
              "    </tr>\n",
              "    <tr>\n",
              "      <th>3</th>\n",
              "      <td>1999</td>\n",
              "      <td>film actress</td>\n",
              "      <td>1/14/99</td>\n",
              "      <td>Acting</td>\n",
              "      <td>Gillian Anderson</td>\n",
              "    </tr>\n",
              "    <tr>\n",
              "      <th>4</th>\n",
              "      <td>1999</td>\n",
              "      <td>actor</td>\n",
              "      <td>1/18/99</td>\n",
              "      <td>Acting</td>\n",
              "      <td>David Alan Grier</td>\n",
              "    </tr>\n",
              "    <tr>\n",
              "      <th>...</th>\n",
              "      <td>...</td>\n",
              "      <td>...</td>\n",
              "      <td>...</td>\n",
              "      <td>...</td>\n",
              "      <td>...</td>\n",
              "    </tr>\n",
              "    <tr>\n",
              "      <th>2688</th>\n",
              "      <td>2015</td>\n",
              "      <td>biographer</td>\n",
              "      <td>7/29/15</td>\n",
              "      <td>Media</td>\n",
              "      <td>Doris Kearns Goodwin</td>\n",
              "    </tr>\n",
              "    <tr>\n",
              "      <th>2689</th>\n",
              "      <td>2015</td>\n",
              "      <td>director</td>\n",
              "      <td>7/30/15</td>\n",
              "      <td>Media</td>\n",
              "      <td>J. J. Abrams</td>\n",
              "    </tr>\n",
              "    <tr>\n",
              "      <th>2690</th>\n",
              "      <td>2015</td>\n",
              "      <td>stand-up comedian</td>\n",
              "      <td>8/3/15</td>\n",
              "      <td>Comedy</td>\n",
              "      <td>Amy Schumer</td>\n",
              "    </tr>\n",
              "    <tr>\n",
              "      <th>2691</th>\n",
              "      <td>2015</td>\n",
              "      <td>actor</td>\n",
              "      <td>8/4/15</td>\n",
              "      <td>Acting</td>\n",
              "      <td>Denis Leary</td>\n",
              "    </tr>\n",
              "    <tr>\n",
              "      <th>2692</th>\n",
              "      <td>2015</td>\n",
              "      <td>comedian</td>\n",
              "      <td>8/5/15</td>\n",
              "      <td>Comedy</td>\n",
              "      <td>Louis C.K.</td>\n",
              "    </tr>\n",
              "  </tbody>\n",
              "</table>\n",
              "<p>2693 rows × 5 columns</p>\n",
              "</div>\n",
              "      <button class=\"colab-df-convert\" onclick=\"convertToInteractive('df-12f7abf8-6d26-4698-a494-d5ee97d77267')\"\n",
              "              title=\"Convert this dataframe to an interactive table.\"\n",
              "              style=\"display:none;\">\n",
              "        \n",
              "  <svg xmlns=\"http://www.w3.org/2000/svg\" height=\"24px\"viewBox=\"0 0 24 24\"\n",
              "       width=\"24px\">\n",
              "    <path d=\"M0 0h24v24H0V0z\" fill=\"none\"/>\n",
              "    <path d=\"M18.56 5.44l.94 2.06.94-2.06 2.06-.94-2.06-.94-.94-2.06-.94 2.06-2.06.94zm-11 1L8.5 8.5l.94-2.06 2.06-.94-2.06-.94L8.5 2.5l-.94 2.06-2.06.94zm10 10l.94 2.06.94-2.06 2.06-.94-2.06-.94-.94-2.06-.94 2.06-2.06.94z\"/><path d=\"M17.41 7.96l-1.37-1.37c-.4-.4-.92-.59-1.43-.59-.52 0-1.04.2-1.43.59L10.3 9.45l-7.72 7.72c-.78.78-.78 2.05 0 2.83L4 21.41c.39.39.9.59 1.41.59.51 0 1.02-.2 1.41-.59l7.78-7.78 2.81-2.81c.8-.78.8-2.07 0-2.86zM5.41 20L4 18.59l7.72-7.72 1.47 1.35L5.41 20z\"/>\n",
              "  </svg>\n",
              "      </button>\n",
              "      \n",
              "  <style>\n",
              "    .colab-df-container {\n",
              "      display:flex;\n",
              "      flex-wrap:wrap;\n",
              "      gap: 12px;\n",
              "    }\n",
              "\n",
              "    .colab-df-convert {\n",
              "      background-color: #E8F0FE;\n",
              "      border: none;\n",
              "      border-radius: 50%;\n",
              "      cursor: pointer;\n",
              "      display: none;\n",
              "      fill: #1967D2;\n",
              "      height: 32px;\n",
              "      padding: 0 0 0 0;\n",
              "      width: 32px;\n",
              "    }\n",
              "\n",
              "    .colab-df-convert:hover {\n",
              "      background-color: #E2EBFA;\n",
              "      box-shadow: 0px 1px 2px rgba(60, 64, 67, 0.3), 0px 1px 3px 1px rgba(60, 64, 67, 0.15);\n",
              "      fill: #174EA6;\n",
              "    }\n",
              "\n",
              "    [theme=dark] .colab-df-convert {\n",
              "      background-color: #3B4455;\n",
              "      fill: #D2E3FC;\n",
              "    }\n",
              "\n",
              "    [theme=dark] .colab-df-convert:hover {\n",
              "      background-color: #434B5C;\n",
              "      box-shadow: 0px 1px 3px 1px rgba(0, 0, 0, 0.15);\n",
              "      filter: drop-shadow(0px 1px 2px rgba(0, 0, 0, 0.3));\n",
              "      fill: #FFFFFF;\n",
              "    }\n",
              "  </style>\n",
              "\n",
              "      <script>\n",
              "        const buttonEl =\n",
              "          document.querySelector('#df-12f7abf8-6d26-4698-a494-d5ee97d77267 button.colab-df-convert');\n",
              "        buttonEl.style.display =\n",
              "          google.colab.kernel.accessAllowed ? 'block' : 'none';\n",
              "\n",
              "        async function convertToInteractive(key) {\n",
              "          const element = document.querySelector('#df-12f7abf8-6d26-4698-a494-d5ee97d77267');\n",
              "          const dataTable =\n",
              "            await google.colab.kernel.invokeFunction('convertToInteractive',\n",
              "                                                     [key], {});\n",
              "          if (!dataTable) return;\n",
              "\n",
              "          const docLinkHtml = 'Like what you see? Visit the ' +\n",
              "            '<a target=\"_blank\" href=https://colab.research.google.com/notebooks/data_table.ipynb>data table notebook</a>'\n",
              "            + ' to learn more about interactive tables.';\n",
              "          element.innerHTML = '';\n",
              "          dataTable['output_type'] = 'display_data';\n",
              "          await google.colab.output.renderOutput(dataTable, element);\n",
              "          const docLink = document.createElement('div');\n",
              "          docLink.innerHTML = docLinkHtml;\n",
              "          element.appendChild(docLink);\n",
              "        }\n",
              "      </script>\n",
              "    </div>\n",
              "  </div>\n",
              "  "
            ]
          },
          "metadata": {},
          "execution_count": 20
        }
      ]
    },
    {
      "cell_type": "code",
      "source": [
        "number=LabelEncoder()\n",
        "dataset['YEAR']=number.fit_transform(dataset['YEAR'])\n",
        "dataset['GoogleKnowlege_Occupation']=number.fit_transform(dataset['GoogleKnowlege_Occupation'])\n",
        "dataset['Show']=number.fit_transform(dataset['Show'])\n",
        "dataset['Group']=number.fit_transform(dataset['Group'])\n",
        "dataset['Raw_Guest_List']=number.fit_transform(dataset['Raw_Guest_List'])"
      ],
      "metadata": {
        "id": "AxhIOpYmRWr8"
      },
      "execution_count": 21,
      "outputs": []
    },
    {
      "cell_type": "code",
      "source": [
        "features=[\"YEAR\",\"GoogleKnowlege_Occupation\",\"Show\",\"Raw_Guest_List\"]\n",
        "target=[\"Group\"]"
      ],
      "metadata": {
        "id": "ez-DzscISzgr"
      },
      "execution_count": 22,
      "outputs": []
    },
    {
      "cell_type": "code",
      "source": [
        "x_train,x_test,y_train,y_test=train_test_split(dataset[features],dataset[target],test_size=0.3,random_state=60)"
      ],
      "metadata": {
        "id": "X6vf66OcTGhD"
      },
      "execution_count": 23,
      "outputs": []
    },
    {
      "cell_type": "code",
      "source": [
        "score=[]"
      ],
      "metadata": {
        "id": "CoB4pobSdl4K"
      },
      "execution_count": 24,
      "outputs": []
    },
    {
      "cell_type": "code",
      "source": [
        "model=GaussianNB()\n",
        "model.fit(x_train,y_train)"
      ],
      "metadata": {
        "colab": {
          "base_uri": "https://localhost:8080/"
        },
        "id": "sRIxK6bVcbWK",
        "outputId": "796444bd-dc83-4097-c549-dbed8ead9898"
      },
      "execution_count": 25,
      "outputs": [
        {
          "output_type": "stream",
          "name": "stderr",
          "text": [
            "/usr/local/lib/python3.7/dist-packages/sklearn/utils/validation.py:993: DataConversionWarning: A column-vector y was passed when a 1d array was expected. Please change the shape of y to (n_samples, ), for example using ravel().\n",
            "  y = column_or_1d(y, warn=True)\n"
          ]
        },
        {
          "output_type": "execute_result",
          "data": {
            "text/plain": [
              "GaussianNB()"
            ]
          },
          "metadata": {},
          "execution_count": 25
        }
      ]
    },
    {
      "cell_type": "code",
      "source": [
        "pred=model.predict(x_test)"
      ],
      "metadata": {
        "id": "x2N8XK8DcrBK"
      },
      "execution_count": 26,
      "outputs": []
    },
    {
      "cell_type": "code",
      "source": [
        "score.append(accuracy_score(y_test,pred))"
      ],
      "metadata": {
        "id": "IRDfQlEDc89W"
      },
      "execution_count": 27,
      "outputs": []
    },
    {
      "cell_type": "code",
      "source": [
        "print(confusion_matrix(y_test,pred))"
      ],
      "metadata": {
        "colab": {
          "base_uri": "https://localhost:8080/"
        },
        "id": "xQ4JhVXYdthl",
        "outputId": "5754c2bf-1993-465b-ca0a-147d2579ec7b"
      },
      "execution_count": 28,
      "outputs": [
        {
          "output_type": "stream",
          "name": "stdout",
          "text": [
            "[[  0   9   0   0   0   0   0   0   0  23   0   0   0   0   0   0   0   0]\n",
            " [  0 274   0   0   0   0   1   0   0   7   0   0   0   0   0   0   0   0]\n",
            " [  0   6   0   0   0   0   0   0   0   3   0   0   0   0   0   0   0   0]\n",
            " [  0   6   0   0   0   0   0   0   0  12   0   0   0   0   0   0   0   0]\n",
            " [  0   4   0   0   0   0   0   0   0   6   0   0   0   0   0   0   0   0]\n",
            " [  0   0   0   0   0   0   0   0   0   1   0   0   0   0   0   0   0   0]\n",
            " [  0  37   0   0   0   0   1   0   0  13   0   0   0   0   0   0   0   0]\n",
            " [  0   5   0   0   0   0   0   0   0   3   0   0   0   0   0   0   0   0]\n",
            " [  0   4   0   0   0   0   0   0   0   7   0   0   0   0   0   0   0   0]\n",
            " [  0  92   0   0   0   0   0   0   0 136   0   0   0   0   0   0   0   0]\n",
            " [  0   1   0   0   0   0   0   0   0   3   0   0   0   0   0   0   0   0]\n",
            " [  0   5   0   0   0   0   0   0   0   9   0   0   0   0   0   0   0   0]\n",
            " [  0  10   0   0   0   0   0   0   0  21   0   0   0   0   0   0   0   0]\n",
            " [  0   1   0   0   0   0   0   0   0   3   0   0   0   0   0   0   0   0]\n",
            " [  0  13   0   0   0   0   0   0   0  72   0   0   1   0   0   0   0   0]\n",
            " [  0   0   0   0   0   0   0   0   0   6   0   0   0   0   0   0   0   0]\n",
            " [  0   0   0   0   0   0   0   0   0   1   0   0   0   0   0   0   0   0]\n",
            " [  0   0   0   0   0   0   0   0   0   9   0   0   3   0   0   0   0   0]]\n"
          ]
        }
      ]
    },
    {
      "cell_type": "code",
      "source": [
        "print(classification_report(y_test,pred))"
      ],
      "metadata": {
        "colab": {
          "base_uri": "https://localhost:8080/"
        },
        "id": "8z07U_H_d722",
        "outputId": "7fe43f43-5d71-4643-aa45-c11d31ddc398"
      },
      "execution_count": 29,
      "outputs": [
        {
          "output_type": "stream",
          "name": "stdout",
          "text": [
            "              precision    recall  f1-score   support\n",
            "\n",
            "           0       0.00      0.00      0.00        32\n",
            "           1       0.59      0.97      0.73       282\n",
            "           2       0.00      0.00      0.00         9\n",
            "           3       0.00      0.00      0.00        18\n",
            "           4       0.00      0.00      0.00        10\n",
            "           5       0.00      0.00      0.00         1\n",
            "           6       0.50      0.02      0.04        51\n",
            "           7       0.00      0.00      0.00         8\n",
            "           8       0.00      0.00      0.00        11\n",
            "           9       0.41      0.60      0.48       228\n",
            "          10       0.00      0.00      0.00         4\n",
            "          11       0.00      0.00      0.00        14\n",
            "          12       0.00      0.00      0.00        31\n",
            "          13       0.00      0.00      0.00         4\n",
            "          14       0.00      0.00      0.00        86\n",
            "          15       0.00      0.00      0.00         6\n",
            "          16       0.00      0.00      0.00         1\n",
            "          17       0.00      0.00      0.00        12\n",
            "\n",
            "    accuracy                           0.51       808\n",
            "   macro avg       0.08      0.09      0.07       808\n",
            "weighted avg       0.35      0.51      0.39       808\n",
            "\n"
          ]
        },
        {
          "output_type": "stream",
          "name": "stderr",
          "text": [
            "/usr/local/lib/python3.7/dist-packages/sklearn/metrics/_classification.py:1318: UndefinedMetricWarning: Precision and F-score are ill-defined and being set to 0.0 in labels with no predicted samples. Use `zero_division` parameter to control this behavior.\n",
            "  _warn_prf(average, modifier, msg_start, len(result))\n",
            "/usr/local/lib/python3.7/dist-packages/sklearn/metrics/_classification.py:1318: UndefinedMetricWarning: Precision and F-score are ill-defined and being set to 0.0 in labels with no predicted samples. Use `zero_division` parameter to control this behavior.\n",
            "  _warn_prf(average, modifier, msg_start, len(result))\n",
            "/usr/local/lib/python3.7/dist-packages/sklearn/metrics/_classification.py:1318: UndefinedMetricWarning: Precision and F-score are ill-defined and being set to 0.0 in labels with no predicted samples. Use `zero_division` parameter to control this behavior.\n",
            "  _warn_prf(average, modifier, msg_start, len(result))\n"
          ]
        }
      ]
    },
    {
      "cell_type": "code",
      "source": [
        "print(score)"
      ],
      "metadata": {
        "colab": {
          "base_uri": "https://localhost:8080/"
        },
        "id": "ZYN9MxO6eCqr",
        "outputId": "55ad7355-5f58-4ae7-d7fe-665bbe6dd27e"
      },
      "execution_count": 30,
      "outputs": [
        {
          "output_type": "stream",
          "name": "stdout",
          "text": [
            "[0.5086633663366337]\n"
          ]
        }
      ]
    },
    {
      "cell_type": "code",
      "source": [
        ""
      ],
      "metadata": {
        "id": "XMr16_c5eFru"
      },
      "execution_count": 30,
      "outputs": []
    }
  ]
}